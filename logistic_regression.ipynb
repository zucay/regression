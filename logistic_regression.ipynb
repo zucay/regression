{
  "nbformat": 4,
  "nbformat_minor": 0,
  "metadata": {
    "colab": {
      "provenance": [],
      "authorship_tag": "ABX9TyMDYrsQp6w1lCqWi7HwMzHA",
      "include_colab_link": true
    },
    "kernelspec": {
      "name": "python3",
      "display_name": "Python 3"
    },
    "language_info": {
      "name": "python"
    }
  },
  "cells": [
    {
      "cell_type": "markdown",
      "metadata": {
        "id": "view-in-github",
        "colab_type": "text"
      },
      "source": [
        "<a href=\"https://colab.research.google.com/github/zucay/regression/blob/main/logistic_regression.ipynb\" target=\"_parent\"><img src=\"https://colab.research.google.com/assets/colab-badge.svg\" alt=\"Open In Colab\"/></a>"
      ]
    },
    {
      "cell_type": "code",
      "execution_count": null,
      "metadata": {
        "id": "syBO391E0nq1"
      },
      "outputs": [],
      "source": [
        "# ロジスティク回帰（〇〇である/〇〇でない）を分析するコード\n",
        "# 設定\n",
        "\n",
        "# ヘッダーつきCSVをGoogleDriveに置く\n",
        "csv_path = 'drive/MyDrive/sample.csv'\n",
        "\n",
        "# 説明したいカラム(null, not null で値を入れておく)\n",
        "target_column = 'TAPPED_AT'\n",
        "\n",
        "# 説明に利用するカラム\n",
        "exp_columns = [\n",
        "    'aaa', 'bbb'\n",
        "  ]\n",
        "\n",
        "# 出来上がったモデルの保存先\n",
        "model_path = 'drive/MyDrive/Colab Notebooks/data/logistic_regression_model.sav'"
      ]
    },
    {
      "cell_type": "code",
      "source": [
        "# 事前準備\n",
        "import pandas as pd\n",
        "import numpy as np\n",
        "import matplotlib.pyplot as plt\n",
        "\n",
        "from google.colab import drive\n",
        "drive.mount('/content/drive/')\n"
      ],
      "metadata": {
        "id": "m2Z6x-W1092S"
      },
      "execution_count": null,
      "outputs": []
    },
    {
      "cell_type": "code",
      "source": [
        "# 学習\n",
        "\n",
        "# データ整形\n",
        "import pandas as pd\n",
        "import numpy as np\n",
        "\n",
        "csv = pd.read_csv(csv_path)\n",
        "\n",
        "# 説明変数\n",
        "X = csv[exp_columns]\n",
        "# 目的変数をtrue/falseに変換\n",
        "Y = csv[target_column].notnull()\n",
        "\n",
        "print('X length: {0}, Y length: {1}'.format(len(X), len(Y)))\n",
        "\n",
        "# 学習事前準備\n",
        "from sklearn.model_selection import train_test_split\n",
        "from sklearn.linear_model import LogisticRegression\n",
        "\n",
        "X_train, X_test, Y_train, Y_test = train_test_split(X, Y, test_size = 0.2, random_state = 0) # 80%のデータを学習データに、20%を検証データにする\n",
        "\n",
        "# 学習\n",
        "lr = LogisticRegression(max_iter=1000) # ロジスティック回帰モデルのインスタンスを作成\n",
        "lr.fit(X_train, Y_train) # ロジスティック回帰モデルの重みを学習\n",
        "\n",
        "# できたモデルを保存\n",
        "import pickle\n",
        "pickle.dump(lr, open(model_path, 'wb'))\n",
        "\n",
        "print('=====できたモデル=====')\n",
        "print(\"coefficient = \", lr.coef_)\n",
        "print(\"intercept = \", lr.intercept_)\n",
        "\n",
        "# 評価\n",
        "Y_pred = lr.predict(X_test)\n",
        "\n",
        "from sklearn.metrics import confusion_matrix, accuracy_score, precision_score, recall_score, f1_score\n",
        "print('=====テスト結果=====')\n",
        "# print('confusion matrix = \\n', confusion_matrix(y_true=Y_test, y_pred=Y_pred))\n",
        "print('accuracy(正解率) = ', accuracy_score(y_true=Y_test, y_pred=Y_pred))\n",
        "print('recall(再現性:T全体の中で予測できたT) = ', recall_score(y_true=Y_test, y_pred=Y_pred))\n",
        "print('precision(適合率:予測がTで実際もT) = ', precision_score(y_true=Y_test, y_pred=Y_pred))\n",
        "print('f1 score = ', f1_score(y_true=Y_test, y_pred=Y_pred))\n"
      ],
      "metadata": {
        "id": "mmyxa5w51BnD"
      },
      "execution_count": null,
      "outputs": []
    }
  ]
}